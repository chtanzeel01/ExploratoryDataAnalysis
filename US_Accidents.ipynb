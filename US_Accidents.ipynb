{
  "nbformat": 4,
  "nbformat_minor": 0,
  "metadata": {
    "colab": {
      "provenance": []
    },
    "kernelspec": {
      "name": "python3",
      "display_name": "Python 3"
    },
    "language_info": {
      "name": "python"
    }
  },
  "cells": [
    {
      "cell_type": "markdown",
      "source": [
        "# US ACCIDENTS EXPLORATORY DATA ANALYSIS"
      ],
      "metadata": {
        "id": "EL6tgmEakJ56"
      }
    },
    {
      "cell_type": "markdown",
      "source": [
        "## About the Data\n",
        "\n",
        "\n",
        "*   Dataset has been downloaded from kaggle\n",
        "*   It contains information about the accidents that occured in US from 2016-2021\n",
        "\n"
      ],
      "metadata": {
        "id": "W51XktR0lLhr"
      }
    },
    {
      "cell_type": "code",
      "source": [
        "file='/content/US_Accidents_Dec21_updated.csv'"
      ],
      "metadata": {
        "id": "5bHCM6SLmayo"
      },
      "execution_count": null,
      "outputs": []
    },
    {
      "cell_type": "markdown",
      "source": [
        "## Data cleaning\n",
        "\n",
        "*   We are going to open data using pandas\n",
        "*   Look at the data available in different columns\n",
        "*   Add and fix any missing or incorrect information\n",
        "\n"
      ],
      "metadata": {
        "id": "2kcK31wUnije"
      }
    },
    {
      "cell_type": "code",
      "source": [
        "import pandas as pd\n",
        "df=pd.read_csv(file)\n",
        "df.head()"
      ],
      "metadata": {
        "colab": {
          "base_uri": "https://localhost:8080/",
          "height": 542
        },
        "id": "fPM51Wdonc2y",
        "outputId": "095b2450-86aa-4453-aae6-bfb8a56830fe"
      },
      "execution_count": null,
      "outputs": [
        {
          "output_type": "stream",
          "name": "stderr",
          "text": [
            "/usr/local/lib/python3.7/dist-packages/IPython/core/interactiveshell.py:3326: DtypeWarning: Columns (30,31,32,33,34,35,36,37,38,39,40,41,42) have mixed types.Specify dtype option on import or set low_memory=False.\n",
            "  exec(code_obj, self.user_global_ns, self.user_ns)\n"
          ]
        },
        {
          "output_type": "execute_result",
          "data": {
            "text/plain": [
              "    ID  Severity           Start_Time             End_Time  Start_Lat  \\\n",
              "0  A-1         3  2016-02-08 00:37:08  2016-02-08 06:37:08  40.108910   \n",
              "1  A-2         2  2016-02-08 05:56:20  2016-02-08 11:56:20  39.865420   \n",
              "2  A-3         2  2016-02-08 06:15:39  2016-02-08 12:15:39  39.102660   \n",
              "3  A-4         2  2016-02-08 06:51:45  2016-02-08 12:51:45  41.062130   \n",
              "4  A-5         3  2016-02-08 07:53:43  2016-02-08 13:53:43  39.172393   \n",
              "\n",
              "   Start_Lng    End_Lat    End_Lng  Distance(mi)  \\\n",
              "0 -83.092860  40.112060 -83.031870         3.230   \n",
              "1 -84.062800  39.865010 -84.048730         0.747   \n",
              "2 -84.524680  39.102090 -84.523960         0.055   \n",
              "3 -81.537840  41.062170 -81.535470         0.123   \n",
              "4 -84.492792  39.170476 -84.501798         0.500   \n",
              "\n",
              "                                         Description  ...  Roundabout Station  \\\n",
              "0  Between Sawmill Rd/Exit 20 and OH-315/Olentang...  ...       False   False   \n",
              "1                 At OH-4/OH-235/Exit 41 - Accident.  ...       False   False   \n",
              "2                   At I-71/US-50/Exit 1 - Accident.  ...       False   False   \n",
              "3                    At Dart Ave/Exit 21 - Accident.  ...       False   False   \n",
              "4                 At Mitchell Ave/Exit 6 - Accident.  ...       False   False   \n",
              "\n",
              "    Stop Traffic_Calming Traffic_Signal Turning_Loop Sunrise_Sunset  \\\n",
              "0  False           False          False        False          Night   \n",
              "1  False           False          False        False          Night   \n",
              "2  False           False          False        False          Night   \n",
              "3  False           False          False        False          Night   \n",
              "4  False           False          False        False            Day   \n",
              "\n",
              "  Civil_Twilight Nautical_Twilight Astronomical_Twilight  \n",
              "0          Night             Night                 Night  \n",
              "1          Night             Night                 Night  \n",
              "2          Night             Night                   Day  \n",
              "3          Night               Day                   Day  \n",
              "4            Day               Day                   Day  \n",
              "\n",
              "[5 rows x 47 columns]"
            ],
            "text/html": [
              "\n",
              "  <div id=\"df-16bc6e88-9444-4fb9-bd2e-534ca89ff66b\">\n",
              "    <div class=\"colab-df-container\">\n",
              "      <div>\n",
              "<style scoped>\n",
              "    .dataframe tbody tr th:only-of-type {\n",
              "        vertical-align: middle;\n",
              "    }\n",
              "\n",
              "    .dataframe tbody tr th {\n",
              "        vertical-align: top;\n",
              "    }\n",
              "\n",
              "    .dataframe thead th {\n",
              "        text-align: right;\n",
              "    }\n",
              "</style>\n",
              "<table border=\"1\" class=\"dataframe\">\n",
              "  <thead>\n",
              "    <tr style=\"text-align: right;\">\n",
              "      <th></th>\n",
              "      <th>ID</th>\n",
              "      <th>Severity</th>\n",
              "      <th>Start_Time</th>\n",
              "      <th>End_Time</th>\n",
              "      <th>Start_Lat</th>\n",
              "      <th>Start_Lng</th>\n",
              "      <th>End_Lat</th>\n",
              "      <th>End_Lng</th>\n",
              "      <th>Distance(mi)</th>\n",
              "      <th>Description</th>\n",
              "      <th>...</th>\n",
              "      <th>Roundabout</th>\n",
              "      <th>Station</th>\n",
              "      <th>Stop</th>\n",
              "      <th>Traffic_Calming</th>\n",
              "      <th>Traffic_Signal</th>\n",
              "      <th>Turning_Loop</th>\n",
              "      <th>Sunrise_Sunset</th>\n",
              "      <th>Civil_Twilight</th>\n",
              "      <th>Nautical_Twilight</th>\n",
              "      <th>Astronomical_Twilight</th>\n",
              "    </tr>\n",
              "  </thead>\n",
              "  <tbody>\n",
              "    <tr>\n",
              "      <th>0</th>\n",
              "      <td>A-1</td>\n",
              "      <td>3</td>\n",
              "      <td>2016-02-08 00:37:08</td>\n",
              "      <td>2016-02-08 06:37:08</td>\n",
              "      <td>40.108910</td>\n",
              "      <td>-83.092860</td>\n",
              "      <td>40.112060</td>\n",
              "      <td>-83.031870</td>\n",
              "      <td>3.230</td>\n",
              "      <td>Between Sawmill Rd/Exit 20 and OH-315/Olentang...</td>\n",
              "      <td>...</td>\n",
              "      <td>False</td>\n",
              "      <td>False</td>\n",
              "      <td>False</td>\n",
              "      <td>False</td>\n",
              "      <td>False</td>\n",
              "      <td>False</td>\n",
              "      <td>Night</td>\n",
              "      <td>Night</td>\n",
              "      <td>Night</td>\n",
              "      <td>Night</td>\n",
              "    </tr>\n",
              "    <tr>\n",
              "      <th>1</th>\n",
              "      <td>A-2</td>\n",
              "      <td>2</td>\n",
              "      <td>2016-02-08 05:56:20</td>\n",
              "      <td>2016-02-08 11:56:20</td>\n",
              "      <td>39.865420</td>\n",
              "      <td>-84.062800</td>\n",
              "      <td>39.865010</td>\n",
              "      <td>-84.048730</td>\n",
              "      <td>0.747</td>\n",
              "      <td>At OH-4/OH-235/Exit 41 - Accident.</td>\n",
              "      <td>...</td>\n",
              "      <td>False</td>\n",
              "      <td>False</td>\n",
              "      <td>False</td>\n",
              "      <td>False</td>\n",
              "      <td>False</td>\n",
              "      <td>False</td>\n",
              "      <td>Night</td>\n",
              "      <td>Night</td>\n",
              "      <td>Night</td>\n",
              "      <td>Night</td>\n",
              "    </tr>\n",
              "    <tr>\n",
              "      <th>2</th>\n",
              "      <td>A-3</td>\n",
              "      <td>2</td>\n",
              "      <td>2016-02-08 06:15:39</td>\n",
              "      <td>2016-02-08 12:15:39</td>\n",
              "      <td>39.102660</td>\n",
              "      <td>-84.524680</td>\n",
              "      <td>39.102090</td>\n",
              "      <td>-84.523960</td>\n",
              "      <td>0.055</td>\n",
              "      <td>At I-71/US-50/Exit 1 - Accident.</td>\n",
              "      <td>...</td>\n",
              "      <td>False</td>\n",
              "      <td>False</td>\n",
              "      <td>False</td>\n",
              "      <td>False</td>\n",
              "      <td>False</td>\n",
              "      <td>False</td>\n",
              "      <td>Night</td>\n",
              "      <td>Night</td>\n",
              "      <td>Night</td>\n",
              "      <td>Day</td>\n",
              "    </tr>\n",
              "    <tr>\n",
              "      <th>3</th>\n",
              "      <td>A-4</td>\n",
              "      <td>2</td>\n",
              "      <td>2016-02-08 06:51:45</td>\n",
              "      <td>2016-02-08 12:51:45</td>\n",
              "      <td>41.062130</td>\n",
              "      <td>-81.537840</td>\n",
              "      <td>41.062170</td>\n",
              "      <td>-81.535470</td>\n",
              "      <td>0.123</td>\n",
              "      <td>At Dart Ave/Exit 21 - Accident.</td>\n",
              "      <td>...</td>\n",
              "      <td>False</td>\n",
              "      <td>False</td>\n",
              "      <td>False</td>\n",
              "      <td>False</td>\n",
              "      <td>False</td>\n",
              "      <td>False</td>\n",
              "      <td>Night</td>\n",
              "      <td>Night</td>\n",
              "      <td>Day</td>\n",
              "      <td>Day</td>\n",
              "    </tr>\n",
              "    <tr>\n",
              "      <th>4</th>\n",
              "      <td>A-5</td>\n",
              "      <td>3</td>\n",
              "      <td>2016-02-08 07:53:43</td>\n",
              "      <td>2016-02-08 13:53:43</td>\n",
              "      <td>39.172393</td>\n",
              "      <td>-84.492792</td>\n",
              "      <td>39.170476</td>\n",
              "      <td>-84.501798</td>\n",
              "      <td>0.500</td>\n",
              "      <td>At Mitchell Ave/Exit 6 - Accident.</td>\n",
              "      <td>...</td>\n",
              "      <td>False</td>\n",
              "      <td>False</td>\n",
              "      <td>False</td>\n",
              "      <td>False</td>\n",
              "      <td>False</td>\n",
              "      <td>False</td>\n",
              "      <td>Day</td>\n",
              "      <td>Day</td>\n",
              "      <td>Day</td>\n",
              "      <td>Day</td>\n",
              "    </tr>\n",
              "  </tbody>\n",
              "</table>\n",
              "<p>5 rows × 47 columns</p>\n",
              "</div>\n",
              "      <button class=\"colab-df-convert\" onclick=\"convertToInteractive('df-16bc6e88-9444-4fb9-bd2e-534ca89ff66b')\"\n",
              "              title=\"Convert this dataframe to an interactive table.\"\n",
              "              style=\"display:none;\">\n",
              "        \n",
              "  <svg xmlns=\"http://www.w3.org/2000/svg\" height=\"24px\"viewBox=\"0 0 24 24\"\n",
              "       width=\"24px\">\n",
              "    <path d=\"M0 0h24v24H0V0z\" fill=\"none\"/>\n",
              "    <path d=\"M18.56 5.44l.94 2.06.94-2.06 2.06-.94-2.06-.94-.94-2.06-.94 2.06-2.06.94zm-11 1L8.5 8.5l.94-2.06 2.06-.94-2.06-.94L8.5 2.5l-.94 2.06-2.06.94zm10 10l.94 2.06.94-2.06 2.06-.94-2.06-.94-.94-2.06-.94 2.06-2.06.94z\"/><path d=\"M17.41 7.96l-1.37-1.37c-.4-.4-.92-.59-1.43-.59-.52 0-1.04.2-1.43.59L10.3 9.45l-7.72 7.72c-.78.78-.78 2.05 0 2.83L4 21.41c.39.39.9.59 1.41.59.51 0 1.02-.2 1.41-.59l7.78-7.78 2.81-2.81c.8-.78.8-2.07 0-2.86zM5.41 20L4 18.59l7.72-7.72 1.47 1.35L5.41 20z\"/>\n",
              "  </svg>\n",
              "      </button>\n",
              "      \n",
              "  <style>\n",
              "    .colab-df-container {\n",
              "      display:flex;\n",
              "      flex-wrap:wrap;\n",
              "      gap: 12px;\n",
              "    }\n",
              "\n",
              "    .colab-df-convert {\n",
              "      background-color: #E8F0FE;\n",
              "      border: none;\n",
              "      border-radius: 50%;\n",
              "      cursor: pointer;\n",
              "      display: none;\n",
              "      fill: #1967D2;\n",
              "      height: 32px;\n",
              "      padding: 0 0 0 0;\n",
              "      width: 32px;\n",
              "    }\n",
              "\n",
              "    .colab-df-convert:hover {\n",
              "      background-color: #E2EBFA;\n",
              "      box-shadow: 0px 1px 2px rgba(60, 64, 67, 0.3), 0px 1px 3px 1px rgba(60, 64, 67, 0.15);\n",
              "      fill: #174EA6;\n",
              "    }\n",
              "\n",
              "    [theme=dark] .colab-df-convert {\n",
              "      background-color: #3B4455;\n",
              "      fill: #D2E3FC;\n",
              "    }\n",
              "\n",
              "    [theme=dark] .colab-df-convert:hover {\n",
              "      background-color: #434B5C;\n",
              "      box-shadow: 0px 1px 3px 1px rgba(0, 0, 0, 0.15);\n",
              "      filter: drop-shadow(0px 1px 2px rgba(0, 0, 0, 0.3));\n",
              "      fill: #FFFFFF;\n",
              "    }\n",
              "  </style>\n",
              "\n",
              "      <script>\n",
              "        const buttonEl =\n",
              "          document.querySelector('#df-16bc6e88-9444-4fb9-bd2e-534ca89ff66b button.colab-df-convert');\n",
              "        buttonEl.style.display =\n",
              "          google.colab.kernel.accessAllowed ? 'block' : 'none';\n",
              "\n",
              "        async function convertToInteractive(key) {\n",
              "          const element = document.querySelector('#df-16bc6e88-9444-4fb9-bd2e-534ca89ff66b');\n",
              "          const dataTable =\n",
              "            await google.colab.kernel.invokeFunction('convertToInteractive',\n",
              "                                                     [key], {});\n",
              "          if (!dataTable) return;\n",
              "\n",
              "          const docLinkHtml = 'Like what you see? Visit the ' +\n",
              "            '<a target=\"_blank\" href=https://colab.research.google.com/notebooks/data_table.ipynb>data table notebook</a>'\n",
              "            + ' to learn more about interactive tables.';\n",
              "          element.innerHTML = '';\n",
              "          dataTable['output_type'] = 'display_data';\n",
              "          await google.colab.output.renderOutput(dataTable, element);\n",
              "          const docLink = document.createElement('div');\n",
              "          docLink.innerHTML = docLinkHtml;\n",
              "          element.appendChild(docLink);\n",
              "        }\n",
              "      </script>\n",
              "    </div>\n",
              "  </div>\n",
              "  "
            ]
          },
          "metadata": {},
          "execution_count": 2
        }
      ]
    },
    {
      "cell_type": "code",
      "source": [
        "df.columns"
      ],
      "metadata": {
        "colab": {
          "base_uri": "https://localhost:8080/"
        },
        "id": "EKoa51wsn9Tk",
        "outputId": "825b1b5f-3ef5-4479-dcc8-88755972df15"
      },
      "execution_count": null,
      "outputs": [
        {
          "output_type": "execute_result",
          "data": {
            "text/plain": [
              "Index(['ID', 'Severity', 'Start_Time', 'End_Time', 'Start_Lat', 'Start_Lng',\n",
              "       'End_Lat', 'End_Lng', 'Distance(mi)', 'Description', 'Number', 'Street',\n",
              "       'Side', 'City', 'County', 'State', 'Zipcode', 'Country', 'Timezone',\n",
              "       'Airport_Code', 'Weather_Timestamp', 'Temperature(F)', 'Wind_Chill(F)',\n",
              "       'Humidity(%)', 'Pressure(in)', 'Visibility(mi)', 'Wind_Direction',\n",
              "       'Wind_Speed(mph)', 'Precipitation(in)', 'Weather_Condition', 'Amenity',\n",
              "       'Bump', 'Crossing', 'Give_Way', 'Junction', 'No_Exit', 'Railway',\n",
              "       'Roundabout', 'Station', 'Stop', 'Traffic_Calming', 'Traffic_Signal',\n",
              "       'Turning_Loop', 'Sunrise_Sunset', 'Civil_Twilight', 'Nautical_Twilight',\n",
              "       'Astronomical_Twilight'],\n",
              "      dtype='object')"
            ]
          },
          "metadata": {},
          "execution_count": 3
        }
      ]
    },
    {
      "cell_type": "code",
      "source": [
        "df.info()"
      ],
      "metadata": {
        "colab": {
          "base_uri": "https://localhost:8080/"
        },
        "id": "CaePoaDFoQji",
        "outputId": "e17fe6d4-e79a-4864-a73e-9dd63365d5ad"
      },
      "execution_count": null,
      "outputs": [
        {
          "output_type": "stream",
          "name": "stdout",
          "text": [
            "<class 'pandas.core.frame.DataFrame'>\n",
            "RangeIndex: 37199 entries, 0 to 37198\n",
            "Data columns (total 47 columns):\n",
            " #   Column                 Non-Null Count  Dtype  \n",
            "---  ------                 --------------  -----  \n",
            " 0   ID                     37199 non-null  object \n",
            " 1   Severity               37199 non-null  int64  \n",
            " 2   Start_Time             37199 non-null  object \n",
            " 3   End_Time               37199 non-null  object \n",
            " 4   Start_Lat              37199 non-null  float64\n",
            " 5   Start_Lng              37199 non-null  float64\n",
            " 6   End_Lat                37199 non-null  float64\n",
            " 7   End_Lng                37199 non-null  float64\n",
            " 8   Distance(mi)           37199 non-null  float64\n",
            " 9   Description            37199 non-null  object \n",
            " 10  Number                 5662 non-null   float64\n",
            " 11  Street                 37199 non-null  object \n",
            " 12  Side                   37199 non-null  object \n",
            " 13  City                   37198 non-null  object \n",
            " 14  County                 37199 non-null  object \n",
            " 15  State                  37199 non-null  object \n",
            " 16  Zipcode                37185 non-null  object \n",
            " 17  Country                37198 non-null  object \n",
            " 18  Timezone               37182 non-null  object \n",
            " 19  Airport_Code           37170 non-null  object \n",
            " 20  Weather_Timestamp      36831 non-null  object \n",
            " 21  Temperature(F)         36098 non-null  float64\n",
            " 22  Wind_Chill(F)          7597 non-null   float64\n",
            " 23  Humidity(%)            36075 non-null  float64\n",
            " 24  Pressure(in)           36164 non-null  float64\n",
            " 25  Visibility(mi)         36021 non-null  float64\n",
            " 26  Wind_Direction         36827 non-null  object \n",
            " 27  Wind_Speed(mph)        31328 non-null  float64\n",
            " 28  Precipitation(in)      3720 non-null   float64\n",
            " 29  Weather_Condition      36054 non-null  object \n",
            " 30  Amenity                37198 non-null  object \n",
            " 31  Bump                   37198 non-null  object \n",
            " 32  Crossing               37198 non-null  object \n",
            " 33  Give_Way               37198 non-null  object \n",
            " 34  Junction               37198 non-null  object \n",
            " 35  No_Exit                37198 non-null  object \n",
            " 36  Railway                37198 non-null  object \n",
            " 37  Roundabout             37198 non-null  object \n",
            " 38  Station                37198 non-null  object \n",
            " 39  Stop                   37198 non-null  object \n",
            " 40  Traffic_Calming        37198 non-null  object \n",
            " 41  Traffic_Signal         37198 non-null  object \n",
            " 42  Turning_Loop           37198 non-null  object \n",
            " 43  Sunrise_Sunset         37197 non-null  object \n",
            " 44  Civil_Twilight         37197 non-null  object \n",
            " 45  Nautical_Twilight      37197 non-null  object \n",
            " 46  Astronomical_Twilight  37197 non-null  object \n",
            "dtypes: float64(13), int64(1), object(33)\n",
            "memory usage: 13.3+ MB\n"
          ]
        }
      ]
    },
    {
      "cell_type": "code",
      "source": [
        "df.describe()"
      ],
      "metadata": {
        "colab": {
          "base_uri": "https://localhost:8080/",
          "height": 364
        },
        "id": "WF6q5XndobAJ",
        "outputId": "36d188b2-1147-4754-c859-9857f15596b5"
      },
      "execution_count": null,
      "outputs": [
        {
          "output_type": "execute_result",
          "data": {
            "text/plain": [
              "           Severity     Start_Lat     Start_Lng       End_Lat       End_Lng  \\\n",
              "count  37199.000000  37199.000000  37199.000000  37199.000000  37199.000000   \n",
              "mean       2.357752     35.977729   -100.093882     35.977976   -100.093818   \n",
              "std        0.621908      4.676943     13.732089      4.677114     13.732217   \n",
              "min        2.000000     25.494490   -123.526160     25.471570   -123.526160   \n",
              "25%        2.000000     32.791010   -117.457815     32.791120   -117.457956   \n",
              "50%        2.000000     34.270460    -96.629570     34.270970    -96.630970   \n",
              "75%        3.000000     39.079190    -93.161950     39.077688    -93.163438   \n",
              "max        4.000000     48.125360    -67.868380     48.122370    -67.868380   \n",
              "\n",
              "       Distance(mi)         Number  Temperature(F)  Wind_Chill(F)  \\\n",
              "count  37199.000000    5662.000000    36098.000000    7597.000000   \n",
              "mean       0.734150    7610.903921       61.001923      23.626392   \n",
              "std        1.949249   11109.772737       20.779630      18.058330   \n",
              "min        0.000000       1.000000      -18.000000     -34.700000   \n",
              "25%        0.181000    1443.500000       48.900000      11.700000   \n",
              "50%        0.421000    4241.500000       64.400000      25.200000   \n",
              "75%        0.703000    9998.000000       75.600000      34.600000   \n",
              "max      151.525000  330991.000000      129.200000     101.000000   \n",
              "\n",
              "        Humidity(%)  Pressure(in)  Visibility(mi)  Wind_Speed(mph)  \\\n",
              "count  36075.000000  36164.000000    36021.000000     31328.000000   \n",
              "mean      65.195925     30.008987        9.272880         9.385068   \n",
              "std       20.857278      0.240734        3.061314         8.004058   \n",
              "min        4.000000     20.670000        0.000000         0.000000   \n",
              "25%       50.000000     29.910000       10.000000         5.800000   \n",
              "50%       67.000000     30.000000       10.000000         8.100000   \n",
              "75%       82.000000     30.110000       10.000000        11.500000   \n",
              "max      100.000000     30.920000      111.000000       822.800000   \n",
              "\n",
              "       Precipitation(in)  \n",
              "count        3720.000000  \n",
              "mean            0.062288  \n",
              "std             0.496909  \n",
              "min             0.000000  \n",
              "25%             0.000000  \n",
              "50%             0.000000  \n",
              "75%             0.030000  \n",
              "max             9.990000  "
            ],
            "text/html": [
              "\n",
              "  <div id=\"df-6356297b-18cb-4371-9e3f-b93a239b17a4\">\n",
              "    <div class=\"colab-df-container\">\n",
              "      <div>\n",
              "<style scoped>\n",
              "    .dataframe tbody tr th:only-of-type {\n",
              "        vertical-align: middle;\n",
              "    }\n",
              "\n",
              "    .dataframe tbody tr th {\n",
              "        vertical-align: top;\n",
              "    }\n",
              "\n",
              "    .dataframe thead th {\n",
              "        text-align: right;\n",
              "    }\n",
              "</style>\n",
              "<table border=\"1\" class=\"dataframe\">\n",
              "  <thead>\n",
              "    <tr style=\"text-align: right;\">\n",
              "      <th></th>\n",
              "      <th>Severity</th>\n",
              "      <th>Start_Lat</th>\n",
              "      <th>Start_Lng</th>\n",
              "      <th>End_Lat</th>\n",
              "      <th>End_Lng</th>\n",
              "      <th>Distance(mi)</th>\n",
              "      <th>Number</th>\n",
              "      <th>Temperature(F)</th>\n",
              "      <th>Wind_Chill(F)</th>\n",
              "      <th>Humidity(%)</th>\n",
              "      <th>Pressure(in)</th>\n",
              "      <th>Visibility(mi)</th>\n",
              "      <th>Wind_Speed(mph)</th>\n",
              "      <th>Precipitation(in)</th>\n",
              "    </tr>\n",
              "  </thead>\n",
              "  <tbody>\n",
              "    <tr>\n",
              "      <th>count</th>\n",
              "      <td>37199.000000</td>\n",
              "      <td>37199.000000</td>\n",
              "      <td>37199.000000</td>\n",
              "      <td>37199.000000</td>\n",
              "      <td>37199.000000</td>\n",
              "      <td>37199.000000</td>\n",
              "      <td>5662.000000</td>\n",
              "      <td>36098.000000</td>\n",
              "      <td>7597.000000</td>\n",
              "      <td>36075.000000</td>\n",
              "      <td>36164.000000</td>\n",
              "      <td>36021.000000</td>\n",
              "      <td>31328.000000</td>\n",
              "      <td>3720.000000</td>\n",
              "    </tr>\n",
              "    <tr>\n",
              "      <th>mean</th>\n",
              "      <td>2.357752</td>\n",
              "      <td>35.977729</td>\n",
              "      <td>-100.093882</td>\n",
              "      <td>35.977976</td>\n",
              "      <td>-100.093818</td>\n",
              "      <td>0.734150</td>\n",
              "      <td>7610.903921</td>\n",
              "      <td>61.001923</td>\n",
              "      <td>23.626392</td>\n",
              "      <td>65.195925</td>\n",
              "      <td>30.008987</td>\n",
              "      <td>9.272880</td>\n",
              "      <td>9.385068</td>\n",
              "      <td>0.062288</td>\n",
              "    </tr>\n",
              "    <tr>\n",
              "      <th>std</th>\n",
              "      <td>0.621908</td>\n",
              "      <td>4.676943</td>\n",
              "      <td>13.732089</td>\n",
              "      <td>4.677114</td>\n",
              "      <td>13.732217</td>\n",
              "      <td>1.949249</td>\n",
              "      <td>11109.772737</td>\n",
              "      <td>20.779630</td>\n",
              "      <td>18.058330</td>\n",
              "      <td>20.857278</td>\n",
              "      <td>0.240734</td>\n",
              "      <td>3.061314</td>\n",
              "      <td>8.004058</td>\n",
              "      <td>0.496909</td>\n",
              "    </tr>\n",
              "    <tr>\n",
              "      <th>min</th>\n",
              "      <td>2.000000</td>\n",
              "      <td>25.494490</td>\n",
              "      <td>-123.526160</td>\n",
              "      <td>25.471570</td>\n",
              "      <td>-123.526160</td>\n",
              "      <td>0.000000</td>\n",
              "      <td>1.000000</td>\n",
              "      <td>-18.000000</td>\n",
              "      <td>-34.700000</td>\n",
              "      <td>4.000000</td>\n",
              "      <td>20.670000</td>\n",
              "      <td>0.000000</td>\n",
              "      <td>0.000000</td>\n",
              "      <td>0.000000</td>\n",
              "    </tr>\n",
              "    <tr>\n",
              "      <th>25%</th>\n",
              "      <td>2.000000</td>\n",
              "      <td>32.791010</td>\n",
              "      <td>-117.457815</td>\n",
              "      <td>32.791120</td>\n",
              "      <td>-117.457956</td>\n",
              "      <td>0.181000</td>\n",
              "      <td>1443.500000</td>\n",
              "      <td>48.900000</td>\n",
              "      <td>11.700000</td>\n",
              "      <td>50.000000</td>\n",
              "      <td>29.910000</td>\n",
              "      <td>10.000000</td>\n",
              "      <td>5.800000</td>\n",
              "      <td>0.000000</td>\n",
              "    </tr>\n",
              "    <tr>\n",
              "      <th>50%</th>\n",
              "      <td>2.000000</td>\n",
              "      <td>34.270460</td>\n",
              "      <td>-96.629570</td>\n",
              "      <td>34.270970</td>\n",
              "      <td>-96.630970</td>\n",
              "      <td>0.421000</td>\n",
              "      <td>4241.500000</td>\n",
              "      <td>64.400000</td>\n",
              "      <td>25.200000</td>\n",
              "      <td>67.000000</td>\n",
              "      <td>30.000000</td>\n",
              "      <td>10.000000</td>\n",
              "      <td>8.100000</td>\n",
              "      <td>0.000000</td>\n",
              "    </tr>\n",
              "    <tr>\n",
              "      <th>75%</th>\n",
              "      <td>3.000000</td>\n",
              "      <td>39.079190</td>\n",
              "      <td>-93.161950</td>\n",
              "      <td>39.077688</td>\n",
              "      <td>-93.163438</td>\n",
              "      <td>0.703000</td>\n",
              "      <td>9998.000000</td>\n",
              "      <td>75.600000</td>\n",
              "      <td>34.600000</td>\n",
              "      <td>82.000000</td>\n",
              "      <td>30.110000</td>\n",
              "      <td>10.000000</td>\n",
              "      <td>11.500000</td>\n",
              "      <td>0.030000</td>\n",
              "    </tr>\n",
              "    <tr>\n",
              "      <th>max</th>\n",
              "      <td>4.000000</td>\n",
              "      <td>48.125360</td>\n",
              "      <td>-67.868380</td>\n",
              "      <td>48.122370</td>\n",
              "      <td>-67.868380</td>\n",
              "      <td>151.525000</td>\n",
              "      <td>330991.000000</td>\n",
              "      <td>129.200000</td>\n",
              "      <td>101.000000</td>\n",
              "      <td>100.000000</td>\n",
              "      <td>30.920000</td>\n",
              "      <td>111.000000</td>\n",
              "      <td>822.800000</td>\n",
              "      <td>9.990000</td>\n",
              "    </tr>\n",
              "  </tbody>\n",
              "</table>\n",
              "</div>\n",
              "      <button class=\"colab-df-convert\" onclick=\"convertToInteractive('df-6356297b-18cb-4371-9e3f-b93a239b17a4')\"\n",
              "              title=\"Convert this dataframe to an interactive table.\"\n",
              "              style=\"display:none;\">\n",
              "        \n",
              "  <svg xmlns=\"http://www.w3.org/2000/svg\" height=\"24px\"viewBox=\"0 0 24 24\"\n",
              "       width=\"24px\">\n",
              "    <path d=\"M0 0h24v24H0V0z\" fill=\"none\"/>\n",
              "    <path d=\"M18.56 5.44l.94 2.06.94-2.06 2.06-.94-2.06-.94-.94-2.06-.94 2.06-2.06.94zm-11 1L8.5 8.5l.94-2.06 2.06-.94-2.06-.94L8.5 2.5l-.94 2.06-2.06.94zm10 10l.94 2.06.94-2.06 2.06-.94-2.06-.94-.94-2.06-.94 2.06-2.06.94z\"/><path d=\"M17.41 7.96l-1.37-1.37c-.4-.4-.92-.59-1.43-.59-.52 0-1.04.2-1.43.59L10.3 9.45l-7.72 7.72c-.78.78-.78 2.05 0 2.83L4 21.41c.39.39.9.59 1.41.59.51 0 1.02-.2 1.41-.59l7.78-7.78 2.81-2.81c.8-.78.8-2.07 0-2.86zM5.41 20L4 18.59l7.72-7.72 1.47 1.35L5.41 20z\"/>\n",
              "  </svg>\n",
              "      </button>\n",
              "      \n",
              "  <style>\n",
              "    .colab-df-container {\n",
              "      display:flex;\n",
              "      flex-wrap:wrap;\n",
              "      gap: 12px;\n",
              "    }\n",
              "\n",
              "    .colab-df-convert {\n",
              "      background-color: #E8F0FE;\n",
              "      border: none;\n",
              "      border-radius: 50%;\n",
              "      cursor: pointer;\n",
              "      display: none;\n",
              "      fill: #1967D2;\n",
              "      height: 32px;\n",
              "      padding: 0 0 0 0;\n",
              "      width: 32px;\n",
              "    }\n",
              "\n",
              "    .colab-df-convert:hover {\n",
              "      background-color: #E2EBFA;\n",
              "      box-shadow: 0px 1px 2px rgba(60, 64, 67, 0.3), 0px 1px 3px 1px rgba(60, 64, 67, 0.15);\n",
              "      fill: #174EA6;\n",
              "    }\n",
              "\n",
              "    [theme=dark] .colab-df-convert {\n",
              "      background-color: #3B4455;\n",
              "      fill: #D2E3FC;\n",
              "    }\n",
              "\n",
              "    [theme=dark] .colab-df-convert:hover {\n",
              "      background-color: #434B5C;\n",
              "      box-shadow: 0px 1px 3px 1px rgba(0, 0, 0, 0.15);\n",
              "      filter: drop-shadow(0px 1px 2px rgba(0, 0, 0, 0.3));\n",
              "      fill: #FFFFFF;\n",
              "    }\n",
              "  </style>\n",
              "\n",
              "      <script>\n",
              "        const buttonEl =\n",
              "          document.querySelector('#df-6356297b-18cb-4371-9e3f-b93a239b17a4 button.colab-df-convert');\n",
              "        buttonEl.style.display =\n",
              "          google.colab.kernel.accessAllowed ? 'block' : 'none';\n",
              "\n",
              "        async function convertToInteractive(key) {\n",
              "          const element = document.querySelector('#df-6356297b-18cb-4371-9e3f-b93a239b17a4');\n",
              "          const dataTable =\n",
              "            await google.colab.kernel.invokeFunction('convertToInteractive',\n",
              "                                                     [key], {});\n",
              "          if (!dataTable) return;\n",
              "\n",
              "          const docLinkHtml = 'Like what you see? Visit the ' +\n",
              "            '<a target=\"_blank\" href=https://colab.research.google.com/notebooks/data_table.ipynb>data table notebook</a>'\n",
              "            + ' to learn more about interactive tables.';\n",
              "          element.innerHTML = '';\n",
              "          dataTable['output_type'] = 'display_data';\n",
              "          await google.colab.output.renderOutput(dataTable, element);\n",
              "          const docLink = document.createElement('div');\n",
              "          docLink.innerHTML = docLinkHtml;\n",
              "          element.appendChild(docLink);\n",
              "        }\n",
              "      </script>\n",
              "    </div>\n",
              "  </div>\n",
              "  "
            ]
          },
          "metadata": {},
          "execution_count": 5
        }
      ]
    },
    {
      "cell_type": "code",
      "source": [
        "numerics = ['int16', 'int32', 'int64', 'float16', 'float32', 'float64']\n",
        "\n",
        "numericColumns = df.select_dtypes(include=numerics)\n",
        "len(numericColumns.columns)"
      ],
      "metadata": {
        "id": "9lh9at6-oiy6",
        "colab": {
          "base_uri": "https://localhost:8080/"
        },
        "outputId": "9a375797-1b41-4b07-cb45-4484ca0778fb"
      },
      "execution_count": null,
      "outputs": [
        {
          "output_type": "execute_result",
          "data": {
            "text/plain": [
              "14"
            ]
          },
          "metadata": {},
          "execution_count": 6
        }
      ]
    },
    {
      "cell_type": "markdown",
      "source": [
        "### Missing Values per Column"
      ],
      "metadata": {
        "id": "-96WTP672dqE"
      }
    },
    {
      "cell_type": "code",
      "source": [
        "missing_values=df.isna().sum().sort_values(ascending=False)\n",
        "percentage_of_missing_values=(missing_values/len(df))\n",
        "percentage_of_missing_values*100"
      ],
      "metadata": {
        "colab": {
          "base_uri": "https://localhost:8080/"
        },
        "id": "LzkDN5a22kgZ",
        "outputId": "5e5547fc-76d3-4da7-99fe-9f41b1aa1046"
      },
      "execution_count": null,
      "outputs": [
        {
          "output_type": "execute_result",
          "data": {
            "text/plain": [
              "Precipitation(in)        89.999731\n",
              "Number                   84.779161\n",
              "Wind_Chill(F)            79.577408\n",
              "Wind_Speed(mph)          15.782682\n",
              "Visibility(mi)            3.166752\n",
              "Weather_Condition         3.078040\n",
              "Humidity(%)               3.021587\n",
              "Temperature(F)            2.959757\n",
              "Pressure(in)              2.782333\n",
              "Wind_Direction            1.000027\n",
              "Weather_Timestamp         0.989274\n",
              "Airport_Code              0.077959\n",
              "Timezone                  0.045700\n",
              "Zipcode                   0.037635\n",
              "Sunrise_Sunset            0.005376\n",
              "Civil_Twilight            0.005376\n",
              "Nautical_Twilight         0.005376\n",
              "Astronomical_Twilight     0.005376\n",
              "Country                   0.002688\n",
              "Bump                      0.002688\n",
              "Turning_Loop              0.002688\n",
              "Traffic_Signal            0.002688\n",
              "Traffic_Calming           0.002688\n",
              "Stop                      0.002688\n",
              "Station                   0.002688\n",
              "Roundabout                0.002688\n",
              "Railway                   0.002688\n",
              "No_Exit                   0.002688\n",
              "Junction                  0.002688\n",
              "Give_Way                  0.002688\n",
              "Crossing                  0.002688\n",
              "Amenity                   0.002688\n",
              "City                      0.002688\n",
              "State                     0.000000\n",
              "Start_Lng                 0.000000\n",
              "End_Lat                   0.000000\n",
              "End_Lng                   0.000000\n",
              "Distance(mi)              0.000000\n",
              "Description               0.000000\n",
              "Street                    0.000000\n",
              "Severity                  0.000000\n",
              "Side                      0.000000\n",
              "County                    0.000000\n",
              "Start_Lat                 0.000000\n",
              "End_Time                  0.000000\n",
              "Start_Time                0.000000\n",
              "ID                        0.000000\n",
              "dtype: float64"
            ]
          },
          "metadata": {},
          "execution_count": 7
        }
      ]
    },
    {
      "cell_type": "code",
      "source": [
        "import matplotlib.pyplot as plt\n",
        "plt.rcParams[\"figure.figsize\"] = (10, 10)\n",
        "(percentage_of_missing_values[percentage_of_missing_values != 0]).plot(kind='barh')\n"
      ],
      "metadata": {
        "colab": {
          "base_uri": "https://localhost:8080/",
          "height": 609
        },
        "id": "hJ_Qtdox2kCd",
        "outputId": "28795238-e633-468d-a766-9c2feb2c8244"
      },
      "execution_count": null,
      "outputs": [
        {
          "output_type": "execute_result",
          "data": {
            "text/plain": [
              "<matplotlib.axes._subplots.AxesSubplot at 0x7f760814de10>"
            ]
          },
          "metadata": {},
          "execution_count": 9
        },
        {
          "output_type": "display_data",
          "data": {
            "text/plain": [
              "<Figure size 720x720 with 1 Axes>"
            ],
            "image/png": "[encoded data removed]"
          },
          "metadata": {
            "needs_background": "light"
          }
        }
      ]
    },
    {
      "cell_type": "markdown",
      "source": [
        "### Columns having most number of missing values are not useful for us and hence it is a good idea to drop them"
      ],
      "metadata": {
        "id": "S-uuJZvAzN39"
      }
    },
    {
      "cell_type": "markdown",
      "source": [
        "## Exploratory Analysis & Visualization\n",
        "\n",
        "\n",
        "*   Pick out a few columns and study them\n",
        "*   Find out their impact on the rate of accidents\n",
        "\n"
      ],
      "metadata": {
        "id": "9-vJ6D25znki"
      }
    },
    {
      "cell_type": "code",
      "source": [
        "df.City.unique()"
      ],
      "metadata": {
        "colab": {
          "base_uri": "https://localhost:8080/"
        },
        "id": "uhs-umlDz1Ys",
        "outputId": "92bd6249-f5e4-47a6-ff0d-f646ac478cc3"
      },
      "execution_count": null,
      "outputs": [
        {
          "output_type": "execute_result",
          "data": {
            "text/plain": [
              "array(['Dublin', 'Dayton', 'Cincinnati', ..., 'Efland', 'Hampshire',\n",
              "       'Deforest'], dtype=object)"
            ]
          },
          "metadata": {},
          "execution_count": 12
        }
      ]
    },
    {
      "cell_type": "code",
      "source": [
        "cities=df.City.unique()\n",
        "len(cities)"
      ],
      "metadata": {
        "colab": {
          "base_uri": "https://localhost:8080/"
        },
        "id": "gojQ6o48z10y",
        "outputId": "9b8fa175-9fa9-4bbd-e7f2-1179f4d7590a"
      },
      "execution_count": null,
      "outputs": [
        {
          "output_type": "execute_result",
          "data": {
            "text/plain": [
              "2852"
            ]
          },
          "metadata": {},
          "execution_count": 13
        }
      ]
    },
    {
      "cell_type": "code",
      "source": [
        "cities_by_accident=df.City.value_counts()\n",
        "cities_by_accident"
      ],
      "metadata": {
        "colab": {
          "base_uri": "https://localhost:8080/"
        },
        "id": "FLqnHVRC0yXw",
        "outputId": "cc676df1-9865-4e24-d408-6174543c6292"
      },
      "execution_count": null,
      "outputs": [
        {
          "output_type": "execute_result",
          "data": {
            "text/plain": [
              "Houston        3268\n",
              "Dallas         2989\n",
              "Minneapolis    1144\n",
              "Kansas City    1118\n",
              "Los Angeles    1077\n",
              "               ... \n",
              "Fall Creek        1\n",
              "Kaw               1\n",
              "Kentwood          1\n",
              "Boyce             1\n",
              "Deforest          1\n",
              "Name: City, Length: 2851, dtype: int64"
            ]
          },
          "metadata": {},
          "execution_count": 14
        }
      ]
    },
    {
      "cell_type": "code",
      "source": [
        "'NY' in df.City"
      ],
      "metadata": {
        "colab": {
          "base_uri": "https://localhost:8080/"
        },
        "id": "3ic7Obsx1zPN",
        "outputId": "67f8689f-9b40-4b0f-d2ec-65f70570f15f"
      },
      "execution_count": null,
      "outputs": [
        {
          "output_type": "execute_result",
          "data": {
            "text/plain": [
              "False"
            ]
          },
          "metadata": {},
          "execution_count": 15
        }
      ]
    },
    {
      "cell_type": "code",
      "source": [
        "#Bar plot of top 20 cities by accidents\n",
        "cities_by_accident[:20].plot(kind='barh')"
      ],
      "metadata": {
        "colab": {
          "base_uri": "https://localhost:8080/",
          "height": 609
        },
        "id": "2YZJxhus2IX1",
        "outputId": "d8028a40-2b5f-42e5-abf9-424f278d19a4"
      },
      "execution_count": null,
      "outputs": [
        {
          "output_type": "execute_result",
          "data": {
            "text/plain": [
              "<matplotlib.axes._subplots.AxesSubplot at 0x7f7606057550>"
            ]
          },
          "metadata": {},
          "execution_count": 16
        },
        {
          "output_type": "display_data",
          "data": {
            "text/plain": [
              "<Figure size 720x720 with 1 Axes>"
            ],
            "image/png": "[encoded data removed]"
          },
          "metadata": {
            "needs_background": "light"
          }
        }
      ]
    },
    {
      "cell_type": "code",
      "source": [
        "import seaborn as sns\n",
        "sns.set_style('darkgrid')\n",
        "sns.distplot(cities_by_accident)"
      ],
      "metadata": {
        "colab": {
          "base_uri": "https://localhost:8080/",
          "height": 678
        },
        "id": "X7PfXWyd2Uqc",
        "outputId": "2d30a8ee-3b7e-4993-da08-b017a9823a65"
      },
      "execution_count": null,
      "outputs": [
        {
          "output_type": "stream",
          "name": "stderr",
          "text": [
            "/usr/local/lib/python3.7/dist-packages/seaborn/distributions.py:2619: FutureWarning: `distplot` is a deprecated function and will be removed in a future version. Please adapt your code to use either `displot` (a figure-level function with similar flexibility) or `histplot` (an axes-level function for histograms).\n",
            "  warnings.warn(msg, FutureWarning)\n"
          ]
        },
        {
          "output_type": "execute_result",
          "data": {
            "text/plain": [
              "<matplotlib.axes._subplots.AxesSubplot at 0x7f75f658d1d0>"
            ]
          },
          "metadata": {},
          "execution_count": 18
        },
        {
          "output_type": "display_data",
          "data": {
            "text/plain": [
              "<Figure size 720x720 with 1 Axes>"
            ],
            "image/png": "[encoded data removed]"
          },
          "metadata": {}
        }
      ]
    },
    {
      "cell_type": "code",
      "source": [
        "high_accident_cities=cities_by_accident[cities_by_accident>=1000]\n",
        "low_accident_cities=cities_by_accident[cities_by_accident<1000]"
      ],
      "metadata": {
        "id": "yD9eMTwu3ozW"
      },
      "execution_count": null,
      "outputs": []
    },
    {
      "cell_type": "code",
      "source": [
        "len(high_accident_cities)/len(cities)"
      ],
      "metadata": {
        "colab": {
          "base_uri": "https://localhost:8080/"
        },
        "id": "4gA0jq3h30lF",
        "outputId": "c92d48c4-8ff6-4da0-923c-8b90e3baa839"
      },
      "execution_count": null,
      "outputs": [
        {
          "output_type": "execute_result",
          "data": {
            "text/plain": [
              "0.0017531556802244039"
            ]
          },
          "metadata": {},
          "execution_count": 21
        }
      ]
    },
    {
      "cell_type": "markdown",
      "source": [
        "##Questions to answer\n",
        "\n",
        "*   Which state has the highest number of accidents?\n",
        "*   Does New York show up in the data? If yes, why is the count lower if this is the most populated city of US?\n",
        "\n"
      ],
      "metadata": {
        "id": "yeTF_f_To_sP"
      }
    },
    {
      "cell_type": "markdown",
      "source": [
        "# Summary & Conclusion\n",
        "\n",
        "\n",
        "*   Most of the accidents occured in Houstan.\n",
        "*   Data for New York is not present in the dataset\n",
        "*   Less than 0.1% of the cities have greater than 1000 accidents\n",
        "\n",
        "\n"
      ],
      "metadata": {
        "id": "JEQXf9m44GPY"
      }
    }
  ]
}